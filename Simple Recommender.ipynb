{
 "cells": [
  {
   "cell_type": "markdown",
   "metadata": {},
   "source": [
    "# Simple Movie-Recommender\n",
    "\n",
    "## Abstract\n",
    "\n",
    "In this post, I will develop a very simple recommendation engine for movies based on regression. The goal is to show some basics of text ranking functionality. Even with a simple classifier as linear regression, we can produce some interesting results.\n",
    "\n",
    "I will start with some theoretical background and will then show how the recommender can be implemented with Python."
   ]
  },
  {
   "cell_type": "markdown",
   "metadata": {},
   "source": [
    "## Methodology\n",
    "\n",
    "In this post, I will follow the basic steps for an data analysis problem. Those are:\n",
    "\n",
    "- Problem statement\n",
    "- Analytic approach\n",
    "- Data requirements\n",
    "- Data collection / Dataset creation\n",
    "- Data understanding / Exploratory Data Analysis\n",
    "- Data preparation / Feature Engineering\n",
    "- Modelling\n",
    "- Evaluation\n",
    "- Deployment\n",
    "- Feedback"
   ]
  },
  {
   "cell_type": "markdown",
   "metadata": {},
   "source": [
    "## Problem statement\n",
    "\n",
    "The goal of this activity is to predict how much a user will like a new movie based on her previous ratings. We will use the following features of a movie:\n",
    "\n",
    "- Title\n",
    "- Genres\n",
    "- Description\n",
    "- Actors\n",
    "\n",
    "Those features can be obtained from various sources. In this post I will work with artificial data to show the basic functionality of the recommender. Information about how to obtain and prepare data is out of scope for this post."
   ]
  },
  {
   "cell_type": "markdown",
   "metadata": {},
   "source": [
    "## Analytical approach\n",
    "\n",
    "First, we need to understand and examine the problem to see what type of machine learning problem we have.  \n",
    "\n",
    "\n",
    "### Supervised vs. unsupervised learning\n",
    "\n",
    "The first decision is whether we face a problem in the area of *supervised* or *unsupervised* learning. \n",
    "\n",
    "*Unsupervised learning* means that we do not know how we shoud classify or structure the data. It is a way of findig a structure in the data without previous knowledge.\n",
    "\n",
    "*Supervised learning* means that we know something about the data, e.g. we have examples and matching labels. The goal of supervised learning is then to find algorithms to predict the labels for new samples.\n",
    "\n",
    "In this post we have some ranked movies as example, therefore we have a problem in the area of **supervised** learning.\n",
    "\n",
    "\n",
    "### Classification vs. Regression\n",
    "\n",
    "Supervised machine learning tasks can be separated into *classification* problems and *regression* problems. \n",
    "\n",
    "*Classification* sorts samples into discrete bins. Taking movies as example, a typical classification problem would be to predict the genre of a movie.\n",
    "\n",
    "*Regression* predicts a continuous value for new samples. Taking movies as example, a typical regression problem would be to predict how much a user will like a new movie on a scale between 0 and 10.\n",
    "\n",
    "In this post we want to predict the ranking of new movies, therefore we have a problem in the area of **regression**.\n",
    "\n",
    "### Selecting the correct classifier\n",
    "\n",
    "As stated above, we will use python to implement the recommender. One of the reasons to use python is the excellent availability of machine learning libraries. One of the most used packages is [scikit-learn](https://scikit-learn.org/stable/). This package provides a decision tree to select the matching classifier:\n",
    "\n",
    "<img src=\"http://blog.yareblo.com/wp-content/uploads/2019/11/Estimator_Selection_Path-1.png\" alt=\"Drawing\" style=\"width: 600px;\"/>\n",
    "\n",
    "<div style=\"text-align: right\">\n",
    "[Source: scikit-learn](https://scikit-learn.org/stable/tutorial/machine_learning_map/index.html)\n",
    "</div>\n",
    "\n",
    "However, for the sake of simplicity I will use a linear regression classifier.\n"
   ]
  },
  {
   "cell_type": "markdown",
   "metadata": {},
   "source": [
    "## Data requirements\n",
    "\n",
    "To be able to complete our goal we need information about the movies and some already classified examples. For demonstational purposes, I will use the following features:\n",
    "\n",
    "- Title\n",
    "- Genres\n",
    "- Description\n",
    "- Actors\n",
    "\n",
    "Of course, there are many more features which could be used, e.g. year, studio, directors, or ratings."
   ]
  },
  {
   "cell_type": "markdown",
   "metadata": {},
   "source": [
    "## Data collection / Dataset creation\n",
    "\n",
    "As stated above, we will work with artificial data. This will help to demonstrate the basic concepts of the recommender. The following sections will show how to create a pandas dataframe with some data."
   ]
  },
  {
   "cell_type": "code",
   "execution_count": 1,
   "metadata": {},
   "outputs": [
    {
     "data": {
      "text/html": [
       "<div>\n",
       "<style>\n",
       "    .dataframe thead tr:only-child th {\n",
       "        text-align: right;\n",
       "    }\n",
       "\n",
       "    .dataframe thead th {\n",
       "        text-align: left;\n",
       "    }\n",
       "\n",
       "    .dataframe tbody tr th {\n",
       "        vertical-align: top;\n",
       "    }\n",
       "</style>\n",
       "<table border=\"1\" class=\"dataframe\">\n",
       "  <thead>\n",
       "    <tr style=\"text-align: right;\">\n",
       "      <th></th>\n",
       "      <th>Title</th>\n",
       "      <th>Genres</th>\n",
       "      <th>Description</th>\n",
       "      <th>Actors</th>\n",
       "      <th>Rating</th>\n",
       "    </tr>\n",
       "  </thead>\n",
       "  <tbody>\n",
       "    <tr>\n",
       "      <th>0</th>\n",
       "      <td>Superman</td>\n",
       "      <td>Action, Drama</td>\n",
       "      <td>Superhero superman beats the supervillian</td>\n",
       "      <td>Christopher Reeve, Dan Cooper</td>\n",
       "      <td>8.0</td>\n",
       "    </tr>\n",
       "    <tr>\n",
       "      <th>1</th>\n",
       "      <td>Batman</td>\n",
       "      <td>Action</td>\n",
       "      <td>Superhero batman is beating the joker</td>\n",
       "      <td>Ben Affleck, Dan Cooper</td>\n",
       "      <td>6.0</td>\n",
       "    </tr>\n",
       "    <tr>\n",
       "      <th>2</th>\n",
       "      <td>Spiderman</td>\n",
       "      <td>Action</td>\n",
       "      <td>Superhero spiderman will beat the vulture</td>\n",
       "      <td>Tobey Maguire, Dan Cooper</td>\n",
       "      <td>7.0</td>\n",
       "    </tr>\n",
       "    <tr>\n",
       "      <th>3</th>\n",
       "      <td>Star Trek</td>\n",
       "      <td>Science Fiction</td>\n",
       "      <td>The space ship explores new worlds</td>\n",
       "      <td>Amy Campbell, Dan Cooper</td>\n",
       "      <td>0.0</td>\n",
       "    </tr>\n",
       "    <tr>\n",
       "      <th>4</th>\n",
       "      <td>Antman</td>\n",
       "      <td>Action</td>\n",
       "      <td>Superhero beats the anteater</td>\n",
       "      <td>Christopher Reeve, Dan Cooper</td>\n",
       "      <td>NaN</td>\n",
       "    </tr>\n",
       "    <tr>\n",
       "      <th>5</th>\n",
       "      <td>Star Wars</td>\n",
       "      <td>Science Fiction</td>\n",
       "      <td>The empire strikes back</td>\n",
       "      <td>Amy Campbell, John Doe</td>\n",
       "      <td>NaN</td>\n",
       "    </tr>\n",
       "  </tbody>\n",
       "</table>\n",
       "</div>"
      ],
      "text/plain": [
       "       Title           Genres                                Description  \\\n",
       "0   Superman    Action, Drama  Superhero superman beats the supervillian   \n",
       "1     Batman           Action      Superhero batman is beating the joker   \n",
       "2  Spiderman           Action  Superhero spiderman will beat the vulture   \n",
       "3  Star Trek  Science Fiction         The space ship explores new worlds   \n",
       "4     Antman           Action               Superhero beats the anteater   \n",
       "5  Star Wars  Science Fiction                    The empire strikes back   \n",
       "\n",
       "                          Actors  Rating  \n",
       "0  Christopher Reeve, Dan Cooper     8.0  \n",
       "1        Ben Affleck, Dan Cooper     6.0  \n",
       "2      Tobey Maguire, Dan Cooper     7.0  \n",
       "3       Amy Campbell, Dan Cooper     0.0  \n",
       "4  Christopher Reeve, Dan Cooper     NaN  \n",
       "5         Amy Campbell, John Doe     NaN  "
      ]
     },
     "execution_count": 1,
     "metadata": {},
     "output_type": "execute_result"
    }
   ],
   "source": [
    "# Import pandas library \n",
    "import pandas as pd \n",
    "import numpy as np\n",
    "\n",
    "# initialize columns\n",
    "columns = ['Title', 'Genres', 'Description', 'Actors', 'Rating']\n",
    "\n",
    "# initialize list of lists \n",
    "data = [['Superman', 'Action, Drama', 'Superhero superman beats the supervillian', 'Christopher Reeve, Dan Cooper', 8], \n",
    "        ['Batman', 'Action', 'Superhero batman is beating the joker', 'Ben Affleck, Dan Cooper', 6], \n",
    "        ['Spiderman', 'Action', 'Superhero spiderman will beat the vulture', 'Tobey Maguire, Dan Cooper', 7],\n",
    "        ['Star Trek', 'Science Fiction', 'The space ship explores new worlds', 'Amy Campbell, Dan Cooper', 0],\n",
    "        ['Antman', 'Action', 'Superhero beats the anteater', 'Christopher Reeve, Dan Cooper', np.nan],\n",
    "        ['Star Wars', 'Science Fiction', 'The empire strikes back', 'Amy Campbell, John Doe', np.nan]] \n",
    "  \n",
    "# Create the pandas DataFrame \n",
    "df_movies = pd.DataFrame(data, columns = columns) \n",
    "  \n",
    "# print dataframe. \n",
    "df_movies"
   ]
  },
  {
   "cell_type": "markdown",
   "metadata": {},
   "source": [
    "## Data understanding / Exploratory Data Analysis\n",
    "\n",
    "As I have created the data artificially specifically for my purpouse, we have already a good understanding of the data. Anyways, I will show some basic techniques for exploratory data analysis.\n",
    "\n",
    "First, let's get an overview of the feature types:"
   ]
  },
  {
   "cell_type": "code",
   "execution_count": 2,
   "metadata": {},
   "outputs": [
    {
     "data": {
      "text/plain": [
       "Title           object\n",
       "Genres          object\n",
       "Description     object\n",
       "Actors          object\n",
       "Rating         float64\n",
       "dtype: object"
      ]
     },
     "execution_count": 2,
     "metadata": {},
     "output_type": "execute_result"
    }
   ],
   "source": [
    "df_movies.dtypes"
   ]
  },
  {
   "cell_type": "markdown",
   "metadata": {},
   "source": [
    "Let's note that 'Rating' is numerical, the other features are of type 'object'.\n",
    "\n",
    "The \"describe()\"-Function provides another hint about the data. Since the result of this function is different for the type of feature, we need to perform two analysis:"
   ]
  },
  {
   "cell_type": "code",
   "execution_count": 3,
   "metadata": {},
   "outputs": [
    {
     "data": {
      "text/html": [
       "<div>\n",
       "<style>\n",
       "    .dataframe thead tr:only-child th {\n",
       "        text-align: right;\n",
       "    }\n",
       "\n",
       "    .dataframe thead th {\n",
       "        text-align: left;\n",
       "    }\n",
       "\n",
       "    .dataframe tbody tr th {\n",
       "        vertical-align: top;\n",
       "    }\n",
       "</style>\n",
       "<table border=\"1\" class=\"dataframe\">\n",
       "  <thead>\n",
       "    <tr style=\"text-align: right;\">\n",
       "      <th></th>\n",
       "      <th>Title</th>\n",
       "      <th>Genres</th>\n",
       "      <th>Description</th>\n",
       "      <th>Actors</th>\n",
       "    </tr>\n",
       "  </thead>\n",
       "  <tbody>\n",
       "    <tr>\n",
       "      <th>count</th>\n",
       "      <td>6</td>\n",
       "      <td>6</td>\n",
       "      <td>6</td>\n",
       "      <td>6</td>\n",
       "    </tr>\n",
       "    <tr>\n",
       "      <th>unique</th>\n",
       "      <td>6</td>\n",
       "      <td>3</td>\n",
       "      <td>6</td>\n",
       "      <td>5</td>\n",
       "    </tr>\n",
       "    <tr>\n",
       "      <th>top</th>\n",
       "      <td>Star Trek</td>\n",
       "      <td>Action</td>\n",
       "      <td>Superhero beats the anteater</td>\n",
       "      <td>Christopher Reeve, Dan Cooper</td>\n",
       "    </tr>\n",
       "    <tr>\n",
       "      <th>freq</th>\n",
       "      <td>1</td>\n",
       "      <td>3</td>\n",
       "      <td>1</td>\n",
       "      <td>2</td>\n",
       "    </tr>\n",
       "  </tbody>\n",
       "</table>\n",
       "</div>"
      ],
      "text/plain": [
       "            Title  Genres                   Description  \\\n",
       "count           6       6                             6   \n",
       "unique          6       3                             6   \n",
       "top     Star Trek  Action  Superhero beats the anteater   \n",
       "freq            1       3                             1   \n",
       "\n",
       "                               Actors  \n",
       "count                               6  \n",
       "unique                              5  \n",
       "top     Christopher Reeve, Dan Cooper  \n",
       "freq                                2  "
      ]
     },
     "execution_count": 3,
     "metadata": {},
     "output_type": "execute_result"
    }
   ],
   "source": [
    "# Analyse columns of type object\n",
    "df_movies.select_dtypes(include=['object']).describe()"
   ]
  },
  {
   "cell_type": "markdown",
   "metadata": {},
   "source": [
    "We see that we only have two unique types of genres. Let's see if we can learn more about this column."
   ]
  },
  {
   "cell_type": "code",
   "execution_count": 4,
   "metadata": {},
   "outputs": [
    {
     "data": {
      "text/plain": [
       "Action             3\n",
       "Science Fiction    2\n",
       "Action, Drama      1\n",
       "Name: Genres, dtype: int64"
      ]
     },
     "execution_count": 4,
     "metadata": {},
     "output_type": "execute_result"
    }
   ],
   "source": [
    "df_movies['Genres'].value_counts()"
   ]
  },
  {
   "cell_type": "markdown",
   "metadata": {},
   "source": [
    "The next step is to analyse the rating column of type float:"
   ]
  },
  {
   "cell_type": "code",
   "execution_count": 5,
   "metadata": {},
   "outputs": [
    {
     "data": {
      "text/html": [
       "<div>\n",
       "<style>\n",
       "    .dataframe thead tr:only-child th {\n",
       "        text-align: right;\n",
       "    }\n",
       "\n",
       "    .dataframe thead th {\n",
       "        text-align: left;\n",
       "    }\n",
       "\n",
       "    .dataframe tbody tr th {\n",
       "        vertical-align: top;\n",
       "    }\n",
       "</style>\n",
       "<table border=\"1\" class=\"dataframe\">\n",
       "  <thead>\n",
       "    <tr style=\"text-align: right;\">\n",
       "      <th></th>\n",
       "      <th>Rating</th>\n",
       "    </tr>\n",
       "  </thead>\n",
       "  <tbody>\n",
       "    <tr>\n",
       "      <th>count</th>\n",
       "      <td>4.000000</td>\n",
       "    </tr>\n",
       "    <tr>\n",
       "      <th>mean</th>\n",
       "      <td>5.250000</td>\n",
       "    </tr>\n",
       "    <tr>\n",
       "      <th>std</th>\n",
       "      <td>3.593976</td>\n",
       "    </tr>\n",
       "    <tr>\n",
       "      <th>min</th>\n",
       "      <td>0.000000</td>\n",
       "    </tr>\n",
       "    <tr>\n",
       "      <th>25%</th>\n",
       "      <td>4.500000</td>\n",
       "    </tr>\n",
       "    <tr>\n",
       "      <th>50%</th>\n",
       "      <td>6.500000</td>\n",
       "    </tr>\n",
       "    <tr>\n",
       "      <th>75%</th>\n",
       "      <td>7.250000</td>\n",
       "    </tr>\n",
       "    <tr>\n",
       "      <th>max</th>\n",
       "      <td>8.000000</td>\n",
       "    </tr>\n",
       "  </tbody>\n",
       "</table>\n",
       "</div>"
      ],
      "text/plain": [
       "         Rating\n",
       "count  4.000000\n",
       "mean   5.250000\n",
       "std    3.593976\n",
       "min    0.000000\n",
       "25%    4.500000\n",
       "50%    6.500000\n",
       "75%    7.250000\n",
       "max    8.000000"
      ]
     },
     "execution_count": 5,
     "metadata": {},
     "output_type": "execute_result"
    }
   ],
   "source": [
    "# Analyse columns of type float\n",
    "df_movies.select_dtypes(include=['float']).describe()"
   ]
  },
  {
   "cell_type": "markdown",
   "metadata": {},
   "source": [
    "Additionally, we want to have a visual representation of the distribution in the rating column:"
   ]
  },
  {
   "cell_type": "code",
   "execution_count": 6,
   "metadata": {},
   "outputs": [
    {
     "data": {
      "image/png": "[encoded data removed]",
      "text/plain": [
       "<matplotlib.figure.Figure at 0x1e305704cc0>"
      ]
     },
     "metadata": {},
     "output_type": "display_data"
    }
   ],
   "source": [
    "import matplotlib\n",
    "import matplotlib.pyplot as plt\n",
    "%matplotlib inline\n",
    "\n",
    "plt.subplot(1, 2, 1)\n",
    "df_movies.boxplot(), plt.title('Boxplot of Rating'), plt.ylabel('Rating')\n",
    "\n",
    "plt.subplot(1, 2, 2)\n",
    "df_movies['Rating'].hist(bins=10), plt.title('Histogram of Rating'), plt.ylabel('Rating')\n",
    "plt.tight_layout()"
   ]
  },
  {
   "cell_type": "markdown",
   "metadata": {},
   "source": [
    "We can see that the most ratings are around the values 6-8 with one outlier with the value 0."
   ]
  },
  {
   "cell_type": "markdown",
   "metadata": {},
   "source": [
    "## Data preparation / Feature Engineering\n",
    "\n",
    "The next step is to generate the features for the classifier. Since we have a numerical optimization problem of type regression, we need to convert the text to numerical features. \n",
    "\n",
    "There are various methods, but the most common ones are:\n",
    "\n",
    "- one-hot encoding\n",
    "- word count\n",
    "- TF-IDF\n",
    "\n",
    "But first we want to combine the features. "
   ]
  },
  {
   "cell_type": "markdown",
   "metadata": {},
   "source": [
    "### Converting actor and genres\n",
    "\n",
    "Actor and genre names should be treated as complete words. Therefore, we need to replace the whitespace in actor names and genres with an underscore to avoid that these will be splitted.\n",
    "\n",
    "Additionally, to avoid that a genre is mixed with a normal word in the movie description, we add a prefix to the genre."
   ]
  },
  {
   "cell_type": "code",
   "execution_count": 7,
   "metadata": {},
   "outputs": [
    {
     "data": {
      "text/html": [
       "<div>\n",
       "<style>\n",
       "    .dataframe thead tr:only-child th {\n",
       "        text-align: right;\n",
       "    }\n",
       "\n",
       "    .dataframe thead th {\n",
       "        text-align: left;\n",
       "    }\n",
       "\n",
       "    .dataframe tbody tr th {\n",
       "        vertical-align: top;\n",
       "    }\n",
       "</style>\n",
       "<table border=\"1\" class=\"dataframe\">\n",
       "  <thead>\n",
       "    <tr style=\"text-align: right;\">\n",
       "      <th></th>\n",
       "      <th>Title</th>\n",
       "      <th>Genres</th>\n",
       "      <th>Description</th>\n",
       "      <th>Actors</th>\n",
       "      <th>Rating</th>\n",
       "    </tr>\n",
       "  </thead>\n",
       "  <tbody>\n",
       "    <tr>\n",
       "      <th>0</th>\n",
       "      <td>Superman</td>\n",
       "      <td>Action, Drama</td>\n",
       "      <td>Superhero superman beats the supervillian</td>\n",
       "      <td>Christopher_Reeve, Dan_Cooper</td>\n",
       "      <td>8.0</td>\n",
       "    </tr>\n",
       "    <tr>\n",
       "      <th>1</th>\n",
       "      <td>Batman</td>\n",
       "      <td>Action</td>\n",
       "      <td>Superhero batman is beating the joker</td>\n",
       "      <td>Ben_Affleck, Dan_Cooper</td>\n",
       "      <td>6.0</td>\n",
       "    </tr>\n",
       "  </tbody>\n",
       "</table>\n",
       "</div>"
      ],
      "text/plain": [
       "      Title         Genres                                Description  \\\n",
       "0  Superman  Action, Drama  Superhero superman beats the supervillian   \n",
       "1    Batman         Action      Superhero batman is beating the joker   \n",
       "\n",
       "                          Actors  Rating  \n",
       "0  Christopher_Reeve, Dan_Cooper     8.0  \n",
       "1        Ben_Affleck, Dan_Cooper     6.0  "
      ]
     },
     "execution_count": 7,
     "metadata": {},
     "output_type": "execute_result"
    }
   ],
   "source": [
    "# Split actors in list\n",
    "df_movies['Actors_split1'] = df_movies['Actors'].str.split(\",\")\n",
    "# replace spaces\n",
    "df_movies['Actors_split2'] = df_movies.apply(lambda x: [w.strip().replace(' ', '_') for w in x['Actors_split1']], axis=1)\n",
    "# merge list\n",
    "df_movies['Actors_split3'] = df_movies.apply(lambda x: \", \".join(x['Actors_split2']) , axis=1)\n",
    "# cleanup\n",
    "df_movies['Actors'] = df_movies['Actors_split3']\n",
    "df_movies.drop(['Actors_split1', 'Actors_split2', 'Actors_split3'], axis=1, inplace=True)\n",
    "df_movies.head(2)"
   ]
  },
  {
   "cell_type": "code",
   "execution_count": 8,
   "metadata": {},
   "outputs": [
    {
     "data": {
      "text/html": [
       "<div>\n",
       "<style>\n",
       "    .dataframe thead tr:only-child th {\n",
       "        text-align: right;\n",
       "    }\n",
       "\n",
       "    .dataframe thead th {\n",
       "        text-align: left;\n",
       "    }\n",
       "\n",
       "    .dataframe tbody tr th {\n",
       "        vertical-align: top;\n",
       "    }\n",
       "</style>\n",
       "<table border=\"1\" class=\"dataframe\">\n",
       "  <thead>\n",
       "    <tr style=\"text-align: right;\">\n",
       "      <th></th>\n",
       "      <th>Title</th>\n",
       "      <th>Genres</th>\n",
       "      <th>Description</th>\n",
       "      <th>Actors</th>\n",
       "      <th>Rating</th>\n",
       "    </tr>\n",
       "  </thead>\n",
       "  <tbody>\n",
       "    <tr>\n",
       "      <th>0</th>\n",
       "      <td>Superman</td>\n",
       "      <td>genre_Action, genre_Drama</td>\n",
       "      <td>Superhero superman beats the supervillian</td>\n",
       "      <td>Christopher_Reeve, Dan_Cooper</td>\n",
       "      <td>8.0</td>\n",
       "    </tr>\n",
       "    <tr>\n",
       "      <th>1</th>\n",
       "      <td>Batman</td>\n",
       "      <td>genre_Action</td>\n",
       "      <td>Superhero batman is beating the joker</td>\n",
       "      <td>Ben_Affleck, Dan_Cooper</td>\n",
       "      <td>6.0</td>\n",
       "    </tr>\n",
       "  </tbody>\n",
       "</table>\n",
       "</div>"
      ],
      "text/plain": [
       "      Title                     Genres  \\\n",
       "0  Superman  genre_Action, genre_Drama   \n",
       "1    Batman               genre_Action   \n",
       "\n",
       "                                 Description                         Actors  \\\n",
       "0  Superhero superman beats the supervillian  Christopher_Reeve, Dan_Cooper   \n",
       "1      Superhero batman is beating the joker        Ben_Affleck, Dan_Cooper   \n",
       "\n",
       "   Rating  \n",
       "0     8.0  \n",
       "1     6.0  "
      ]
     },
     "execution_count": 8,
     "metadata": {},
     "output_type": "execute_result"
    }
   ],
   "source": [
    "# Split genres in list\n",
    "df_movies['Genres_split1'] = df_movies['Genres'].str.split(\",\")\n",
    "# replace spaces and add prefix \"genre\"\n",
    "df_movies['Genres_split2'] = df_movies.apply(lambda x: [\"genre_\"+w.strip().replace(' ', '_') for w in x['Genres_split1']], axis=1)\n",
    "# merge list\n",
    "df_movies['Genres_split3'] = df_movies.apply(lambda x: \", \".join(x['Genres_split2']) , axis=1)\n",
    "# cleanup\n",
    "df_movies['Genres'] = df_movies['Genres_split3']\n",
    "df_movies.drop(['Genres_split1', 'Genres_split2', 'Genres_split3'], axis=1, inplace=True)\n",
    "df_movies.head(2)"
   ]
  },
  {
   "cell_type": "markdown",
   "metadata": {},
   "source": [
    "Combine all columns except Rating into one feature-column"
   ]
  },
  {
   "cell_type": "code",
   "execution_count": 9,
   "metadata": {},
   "outputs": [
    {
     "data": {
      "text/plain": [
       "'Superman genre_Action, genre_Drama Superhero superman beats the supervillian Christopher_Reeve, Dan_Cooper'"
      ]
     },
     "execution_count": 9,
     "metadata": {},
     "output_type": "execute_result"
    }
   ],
   "source": [
    "df_movies['Content'] = df_movies.loc[:, df_movies.columns != 'Rating'].apply(' '.join, axis=1)\n",
    "df_movies.loc[0, 'Content']"
   ]
  },
  {
   "cell_type": "markdown",
   "metadata": {},
   "source": [
    "Now, we do some cleaning and removal of unwanted characters..."
   ]
  },
  {
   "cell_type": "code",
   "execution_count": 10,
   "metadata": {
    "collapsed": true
   },
   "outputs": [],
   "source": [
    "# do some cleaning and dimension reduction\n",
    "df_movies['Content_Parsed_1'] = df_movies['Content'].str.replace(\"\\r\", \" \")\n",
    "df_movies['Content_Parsed_1'] = df_movies['Content_Parsed_1'].str.replace(\"\\n\", \" \")\n",
    "df_movies['Content_Parsed_1'] = df_movies['Content_Parsed_1'].str.replace(\"/\", \" \")\n",
    "df_movies['Content_Parsed_1'] = df_movies['Content_Parsed_1'].str.replace('\"', '')\n",
    "df_movies['Content_Parsed_1'] = df_movies['Content_Parsed_1'].str.lower()\n",
    "\n",
    "punctuation_signs = list(\"?:!.,;<>\")\n",
    "for punct_sign in punctuation_signs:\n",
    "    df_movies['Content_Parsed_1'] = df_movies['Content_Parsed_1'].str.replace(punct_sign, ' ')\n"
   ]
  },
  {
   "cell_type": "markdown",
   "metadata": {},
   "source": [
    "Additionally, we do some [lemmatizations](https://en.wikipedia.org/wiki/Lemmatisation) to reduce the variations of words in the features:"
   ]
  },
  {
   "cell_type": "code",
   "execution_count": 11,
   "metadata": {},
   "outputs": [
    {
     "name": "stdout",
     "output_type": "stream",
     "text": [
      "[nltk_data] Downloading package wordnet to\n",
      "[nltk_data]   Package wordnet is already up-to-date!\n",
      "[nltk_data] Downloading package punkt to\n",
      "[nltk_data]   Package punkt is already up-to-date!\n"
     ]
    },
    {
     "data": {
      "text/plain": [
       "0    superman genre_action  genre_drama superhero superman beat the supervillian christopher_reeve  dan_cooper\n",
       "1                               batman genre_action superhero batman be beat the joker ben_affleck  dan_cooper\n",
       "2                   spiderman genre_action superhero spiderman will beat the vulture tobey_maguire  dan_cooper\n",
       "3                   star trek genre_science_fiction the space ship explore new worlds amy_campbell  dan_cooper\n",
       "4                                antman genre_action superhero beat the anteater christopher_reeve  dan_cooper\n",
       "5                                 star war genre_science_fiction the empire strike back amy_campbell  john_doe\n",
       "Name: Content_Parsed_2, dtype: object"
      ]
     },
     "execution_count": 11,
     "metadata": {},
     "output_type": "execute_result"
    }
   ],
   "source": [
    "import nltk\n",
    "from nltk.corpus import stopwords\n",
    "from nltk.stem import WordNetLemmatizer\n",
    "from sklearn.feature_extraction.text import TfidfVectorizer\n",
    "\n",
    "nltk.download('wordnet')\n",
    "nltk.download('punkt')\n",
    "wordnet_lemmatizer = WordNetLemmatizer()\n",
    "\n",
    "nrows = len(df_movies)\n",
    "lemmatized_text_list = []\n",
    "\n",
    "for row in range(0, nrows):\n",
    "    lemmatized_list = []\n",
    "    text = df_movies.loc[row]['Content_Parsed_1']\n",
    "    text_words = text.split(\" \")\n",
    "    # Iterate through every word to lemmatize\n",
    "    for word in text_words:\n",
    "        lemmatized_list.append(wordnet_lemmatizer.lemmatize(word, pos=\"v\"))\n",
    "        # print(word,\" -> \", wordnet_lemmatizer.lemmatize(word, pos=\"v\"))\n",
    "    lemmatized_text = \" \".join(lemmatized_list)\n",
    "    lemmatized_text_list.append(lemmatized_text)\n",
    "df_movies['Content_Parsed_2'] = lemmatized_text_list\n",
    "pd.set_option('max_colwidth', 600)\n",
    "df_movies['Content_Parsed_2'].head(10)"
   ]
  },
  {
   "cell_type": "markdown",
   "metadata": {},
   "source": [
    "As you can see, the different variations of \"beats\" in the original text have been converted to \"beat\", thus reducing the number of features and increasing the strength of this word."
   ]
  },
  {
   "cell_type": "markdown",
   "metadata": {},
   "source": [
    "Finally, we remove words which do not contain specific information, e.g. \"the\". Those words are called \"stop words\"."
   ]
  },
  {
   "cell_type": "code",
   "execution_count": 12,
   "metadata": {},
   "outputs": [
    {
     "name": "stdout",
     "output_type": "stream",
     "text": [
      "[nltk_data] Downloading package stopwords to\n",
      "[nltk_data]   Package stopwords is already up-to-date!\n"
     ]
    }
   ],
   "source": [
    "# Downloading the stop words list\n",
    "nltk.download('stopwords')\n",
    "\n",
    "# Loading the stop words in english\n",
    "stop_words = list(stopwords.words('english'))\n",
    "\n",
    "df_movies['Content_Parsed_3'] = df_movies['Content_Parsed_2']\n",
    "for stop_word in stop_words:\n",
    "    regex_stopword = r\"\\b\" + stop_word + r\"\\b\"\n",
    "    df_movies['Content_Parsed_3'] = df_movies['Content_Parsed_3'].str.replace(regex_stopword, \"\")"
   ]
  },
  {
   "cell_type": "markdown",
   "metadata": {},
   "source": [
    "Now, we clean up the dataframe to save space."
   ]
  },
  {
   "cell_type": "code",
   "execution_count": 13,
   "metadata": {},
   "outputs": [
    {
     "data": {
      "text/html": [
       "<div>\n",
       "<style>\n",
       "    .dataframe thead tr:only-child th {\n",
       "        text-align: right;\n",
       "    }\n",
       "\n",
       "    .dataframe thead th {\n",
       "        text-align: left;\n",
       "    }\n",
       "\n",
       "    .dataframe tbody tr th {\n",
       "        vertical-align: top;\n",
       "    }\n",
       "</style>\n",
       "<table border=\"1\" class=\"dataframe\">\n",
       "  <thead>\n",
       "    <tr style=\"text-align: right;\">\n",
       "      <th></th>\n",
       "      <th>Title</th>\n",
       "      <th>Genres</th>\n",
       "      <th>Description</th>\n",
       "      <th>Actors</th>\n",
       "      <th>Rating</th>\n",
       "      <th>Content</th>\n",
       "    </tr>\n",
       "  </thead>\n",
       "  <tbody>\n",
       "    <tr>\n",
       "      <th>0</th>\n",
       "      <td>Superman</td>\n",
       "      <td>genre_Action, genre_Drama</td>\n",
       "      <td>Superhero superman beats the supervillian</td>\n",
       "      <td>Christopher_Reeve, Dan_Cooper</td>\n",
       "      <td>8.0</td>\n",
       "      <td>superman genre_action  genre_drama superhero superman beat  supervillian christopher_reeve  dan_cooper</td>\n",
       "    </tr>\n",
       "    <tr>\n",
       "      <th>1</th>\n",
       "      <td>Batman</td>\n",
       "      <td>genre_Action</td>\n",
       "      <td>Superhero batman is beating the joker</td>\n",
       "      <td>Ben_Affleck, Dan_Cooper</td>\n",
       "      <td>6.0</td>\n",
       "      <td>batman genre_action superhero batman  beat  joker ben_affleck  dan_cooper</td>\n",
       "    </tr>\n",
       "  </tbody>\n",
       "</table>\n",
       "</div>"
      ],
      "text/plain": [
       "      Title                     Genres  \\\n",
       "0  Superman  genre_Action, genre_Drama   \n",
       "1    Batman               genre_Action   \n",
       "\n",
       "                                 Description                         Actors  \\\n",
       "0  Superhero superman beats the supervillian  Christopher_Reeve, Dan_Cooper   \n",
       "1      Superhero batman is beating the joker        Ben_Affleck, Dan_Cooper   \n",
       "\n",
       "   Rating  \\\n",
       "0     8.0   \n",
       "1     6.0   \n",
       "\n",
       "                                                                                                  Content  \n",
       "0  superman genre_action  genre_drama superhero superman beat  supervillian christopher_reeve  dan_cooper  \n",
       "1                               batman genre_action superhero batman  beat  joker ben_affleck  dan_cooper  "
      ]
     },
     "execution_count": 13,
     "metadata": {},
     "output_type": "execute_result"
    }
   ],
   "source": [
    "df_movies.drop(['Content', 'Content_Parsed_1', 'Content_Parsed_2'], axis=1, inplace=True, errors='ignore')\n",
    "df_movies.rename(columns={\"Content_Parsed_3\": \"Content\"}, inplace=True)\n",
    "df_movies.head(2)"
   ]
  },
  {
   "cell_type": "markdown",
   "metadata": {},
   "source": [
    "As a result, we have a clean dataset with a column \"Content\" which contains the features, and a column \"Rating\", which contains the labels."
   ]
  },
  {
   "cell_type": "markdown",
   "metadata": {},
   "source": [
    "## Modelling\n",
    "\n",
    "In this section, we take the dataset and transform the words to numbers to be readable for the regression classifier. Then, we train the classifier and check the relevant features."
   ]
  },
  {
   "cell_type": "markdown",
   "metadata": {},
   "source": [
    "For the training-set, we remove all movies without rating. Since I am using artificial data with very few samples, I decided to omit the classical \"train/test\" split and use the complete feature set for training."
   ]
  },
  {
   "cell_type": "code",
   "execution_count": 14,
   "metadata": {
    "collapsed": true
   },
   "outputs": [],
   "source": [
    "df_movies_train = df_movies[pd.notnull(df_movies['Rating'])]\n",
    "y_train = df_movies_train['Rating']"
   ]
  },
  {
   "cell_type": "markdown",
   "metadata": {},
   "source": [
    "The next step is to convert the text in column 'Content' into features which can be processed by the classifier. As stated above, the following options exist:\n",
    "\n",
    "- one-hot encoding\n",
    "- word count\n",
    "- [TF-IDF](https://en.wikipedia.org/wiki/Tf%E2%80%93idf)\n",
    "\n",
    "When you play with the notebook, you can test the different variations by uncommenting the lines below. For the remainder, I decided to use word count, since this is the most intuitive vectorization approach."
   ]
  },
  {
   "cell_type": "code",
   "execution_count": 15,
   "metadata": {},
   "outputs": [
    {
     "data": {
      "text/html": [
       "<div>\n",
       "<style>\n",
       "    .dataframe thead tr:only-child th {\n",
       "        text-align: right;\n",
       "    }\n",
       "\n",
       "    .dataframe thead th {\n",
       "        text-align: left;\n",
       "    }\n",
       "\n",
       "    .dataframe tbody tr th {\n",
       "        vertical-align: top;\n",
       "    }\n",
       "</style>\n",
       "<table border=\"1\" class=\"dataframe\">\n",
       "  <thead>\n",
       "    <tr style=\"text-align: right;\">\n",
       "      <th></th>\n",
       "      <th>amy_campbell</th>\n",
       "      <th>batman</th>\n",
       "      <th>beat</th>\n",
       "      <th>ben_affleck</th>\n",
       "      <th>christopher_reeve</th>\n",
       "      <th>explore</th>\n",
       "      <th>genre_action</th>\n",
       "      <th>genre_drama</th>\n",
       "      <th>genre_science_fiction</th>\n",
       "      <th>joker</th>\n",
       "      <th>...</th>\n",
       "      <th>space</th>\n",
       "      <th>spiderman</th>\n",
       "      <th>star</th>\n",
       "      <th>superhero</th>\n",
       "      <th>superman</th>\n",
       "      <th>supervillian</th>\n",
       "      <th>tobey_maguire</th>\n",
       "      <th>trek</th>\n",
       "      <th>vulture</th>\n",
       "      <th>worlds</th>\n",
       "    </tr>\n",
       "  </thead>\n",
       "  <tbody>\n",
       "    <tr>\n",
       "      <th>0</th>\n",
       "      <td>0</td>\n",
       "      <td>0</td>\n",
       "      <td>1</td>\n",
       "      <td>0</td>\n",
       "      <td>1</td>\n",
       "      <td>0</td>\n",
       "      <td>1</td>\n",
       "      <td>1</td>\n",
       "      <td>0</td>\n",
       "      <td>0</td>\n",
       "      <td>...</td>\n",
       "      <td>0</td>\n",
       "      <td>0</td>\n",
       "      <td>0</td>\n",
       "      <td>1</td>\n",
       "      <td>2</td>\n",
       "      <td>1</td>\n",
       "      <td>0</td>\n",
       "      <td>0</td>\n",
       "      <td>0</td>\n",
       "      <td>0</td>\n",
       "    </tr>\n",
       "    <tr>\n",
       "      <th>1</th>\n",
       "      <td>0</td>\n",
       "      <td>2</td>\n",
       "      <td>1</td>\n",
       "      <td>1</td>\n",
       "      <td>0</td>\n",
       "      <td>0</td>\n",
       "      <td>1</td>\n",
       "      <td>0</td>\n",
       "      <td>0</td>\n",
       "      <td>1</td>\n",
       "      <td>...</td>\n",
       "      <td>0</td>\n",
       "      <td>0</td>\n",
       "      <td>0</td>\n",
       "      <td>1</td>\n",
       "      <td>0</td>\n",
       "      <td>0</td>\n",
       "      <td>0</td>\n",
       "      <td>0</td>\n",
       "      <td>0</td>\n",
       "      <td>0</td>\n",
       "    </tr>\n",
       "    <tr>\n",
       "      <th>2</th>\n",
       "      <td>0</td>\n",
       "      <td>0</td>\n",
       "      <td>1</td>\n",
       "      <td>0</td>\n",
       "      <td>0</td>\n",
       "      <td>0</td>\n",
       "      <td>1</td>\n",
       "      <td>0</td>\n",
       "      <td>0</td>\n",
       "      <td>0</td>\n",
       "      <td>...</td>\n",
       "      <td>0</td>\n",
       "      <td>2</td>\n",
       "      <td>0</td>\n",
       "      <td>1</td>\n",
       "      <td>0</td>\n",
       "      <td>0</td>\n",
       "      <td>1</td>\n",
       "      <td>0</td>\n",
       "      <td>1</td>\n",
       "      <td>0</td>\n",
       "    </tr>\n",
       "    <tr>\n",
       "      <th>3</th>\n",
       "      <td>1</td>\n",
       "      <td>0</td>\n",
       "      <td>0</td>\n",
       "      <td>0</td>\n",
       "      <td>0</td>\n",
       "      <td>1</td>\n",
       "      <td>0</td>\n",
       "      <td>0</td>\n",
       "      <td>1</td>\n",
       "      <td>0</td>\n",
       "      <td>...</td>\n",
       "      <td>1</td>\n",
       "      <td>0</td>\n",
       "      <td>1</td>\n",
       "      <td>0</td>\n",
       "      <td>0</td>\n",
       "      <td>0</td>\n",
       "      <td>0</td>\n",
       "      <td>1</td>\n",
       "      <td>0</td>\n",
       "      <td>1</td>\n",
       "    </tr>\n",
       "  </tbody>\n",
       "</table>\n",
       "<p>4 rows × 22 columns</p>\n",
       "</div>"
      ],
      "text/plain": [
       "   amy_campbell  batman  beat  ben_affleck  christopher_reeve  explore  \\\n",
       "0             0       0     1            0                  1        0   \n",
       "1             0       2     1            1                  0        0   \n",
       "2             0       0     1            0                  0        0   \n",
       "3             1       0     0            0                  0        1   \n",
       "\n",
       "   genre_action  genre_drama  genre_science_fiction  joker   ...    space  \\\n",
       "0             1            1                      0      0   ...        0   \n",
       "1             1            0                      0      1   ...        0   \n",
       "2             1            0                      0      0   ...        0   \n",
       "3             0            0                      1      0   ...        1   \n",
       "\n",
       "   spiderman  star  superhero  superman  supervillian  tobey_maguire  trek  \\\n",
       "0          0     0          1         2             1              0     0   \n",
       "1          0     0          1         0             0              0     0   \n",
       "2          2     0          1         0             0              1     0   \n",
       "3          0     1          0         0             0              0     1   \n",
       "\n",
       "   vulture  worlds  \n",
       "0        0       0  \n",
       "1        0       0  \n",
       "2        1       0  \n",
       "3        0       1  \n",
       "\n",
       "[4 rows x 22 columns]"
      ]
     },
     "execution_count": 15,
     "metadata": {},
     "output_type": "execute_result"
    }
   ],
   "source": [
    "from sklearn.linear_model import LinearRegression\n",
    "from sklearn.linear_model import Lasso\n",
    "from sklearn.feature_extraction.text import CountVectorizer,TfidfVectorizer\n",
    "\n",
    "#cv = TfidfVectorizer(use_idf=True, max_df=0.85)\n",
    "cv = CountVectorizer(binary=False, max_df=0.85)\n",
    "#cv = CountVectorizer(binary=True, max_df=0.85)\n",
    "\n",
    "cv.fit_transform(df_movies_train['Content'].values)\n",
    "train_feature_set = cv.transform(df_movies_train['Content'].values)\n",
    "\n",
    "# Place the result into a dataframe for a nice representation\n",
    "df_features = pd.DataFrame(data = train_feature_set.toarray(),columns = cv.get_feature_names())\n",
    "df_features.head(200)"
   ]
  },
  {
   "cell_type": "markdown",
   "metadata": {},
   "source": [
    "Note that the word \"superhero\" does not occurr, althouth it is not in the list of stop words. This is due to the parameter \"max_df=0,85\" which filters words which are not specific enough, since they occurr in more than 85% of the samples.\n",
    "\n",
    "Now, we train a linear regression classifier with the features and labels. According to the classifier selection path, we should use the lasso classifier. However, my expetiments showed that the linear regression leads to better results for the given training set."
   ]
  },
  {
   "cell_type": "code",
   "execution_count": 16,
   "metadata": {
    "collapsed": true
   },
   "outputs": [],
   "source": [
    "reg_lin = LinearRegression()\n",
    "#reg_lin = Lasso(alpha = 0.1)\n",
    "\n",
    "model_lin = reg_lin.fit(train_feature_set, y_train)"
   ]
  },
  {
   "cell_type": "markdown",
   "metadata": {},
   "source": [
    "## Evaluation\n",
    "\n",
    "In this chapter, we will use the classifier to rank the movies. By ranking also movies which are already classified we can additionally get an impression of the accuracy of the classifier.\n",
    "<br>\n",
    "**Note:** In a production environment you would not use this technique and would rather work with train- validation- and test-data, or even use [crossvalidation](https://scikit-learn.org/stable/modules/cross_validation.html).\n",
    "<br>\n",
    "Due to the nature of the data (artificial, very few samples) I will not apply further evaluation models. We will check the quality of the classifyer just by manual examination."
   ]
  },
  {
   "cell_type": "markdown",
   "metadata": {},
   "source": [
    "Apply the classifier to the test set:"
   ]
  },
  {
   "cell_type": "code",
   "execution_count": 17,
   "metadata": {},
   "outputs": [
    {
     "data": {
      "text/plain": [
       "array([ 8. ,  6. ,  7. ,  0. ,  6.5,  3.5])"
      ]
     },
     "execution_count": 17,
     "metadata": {},
     "output_type": "execute_result"
    }
   ],
   "source": [
    "#df_movie_test = df_movies[pd.isnull(df_movies['Rating'])]\n",
    "df_movie_test = df_movies.copy()\n",
    "\n",
    "test_feature_set = cv.transform(df_movie_test['Content'].values)\n",
    "yhat = model_lin.predict(test_feature_set)\n",
    "yhat"
   ]
  },
  {
   "cell_type": "markdown",
   "metadata": {},
   "source": [
    "Merge the results with the test set and show the calculated ratings:"
   ]
  },
  {
   "cell_type": "code",
   "execution_count": 18,
   "metadata": {},
   "outputs": [
    {
     "data": {
      "text/html": [
       "<div>\n",
       "<style>\n",
       "    .dataframe thead tr:only-child th {\n",
       "        text-align: right;\n",
       "    }\n",
       "\n",
       "    .dataframe thead th {\n",
       "        text-align: left;\n",
       "    }\n",
       "\n",
       "    .dataframe tbody tr th {\n",
       "        vertical-align: top;\n",
       "    }\n",
       "</style>\n",
       "<table border=\"1\" class=\"dataframe\">\n",
       "  <thead>\n",
       "    <tr style=\"text-align: right;\">\n",
       "      <th></th>\n",
       "      <th>Title</th>\n",
       "      <th>Rating</th>\n",
       "      <th>Rating Calculated</th>\n",
       "    </tr>\n",
       "  </thead>\n",
       "  <tbody>\n",
       "    <tr>\n",
       "      <th>0</th>\n",
       "      <td>Superman</td>\n",
       "      <td>8.0</td>\n",
       "      <td>8.00</td>\n",
       "    </tr>\n",
       "    <tr>\n",
       "      <th>2</th>\n",
       "      <td>Spiderman</td>\n",
       "      <td>7.0</td>\n",
       "      <td>7.00</td>\n",
       "    </tr>\n",
       "    <tr>\n",
       "      <th>4</th>\n",
       "      <td>Antman</td>\n",
       "      <td>NaN</td>\n",
       "      <td>6.50</td>\n",
       "    </tr>\n",
       "    <tr>\n",
       "      <th>1</th>\n",
       "      <td>Batman</td>\n",
       "      <td>6.0</td>\n",
       "      <td>6.00</td>\n",
       "    </tr>\n",
       "    <tr>\n",
       "      <th>5</th>\n",
       "      <td>Star Wars</td>\n",
       "      <td>NaN</td>\n",
       "      <td>3.50</td>\n",
       "    </tr>\n",
       "    <tr>\n",
       "      <th>3</th>\n",
       "      <td>Star Trek</td>\n",
       "      <td>0.0</td>\n",
       "      <td>0.00</td>\n",
       "    </tr>\n",
       "  </tbody>\n",
       "</table>\n",
       "</div>"
      ],
      "text/plain": [
       "       Title  Rating Rating Calculated\n",
       "0   Superman     8.0              8.00\n",
       "2  Spiderman     7.0              7.00\n",
       "4     Antman     NaN              6.50\n",
       "1     Batman     6.0              6.00\n",
       "5  Star Wars     NaN              3.50\n",
       "3  Star Trek     0.0              0.00"
      ]
     },
     "execution_count": 18,
     "metadata": {},
     "output_type": "execute_result"
    }
   ],
   "source": [
    "df_movie_test.loc[:,'Rating Calculated'] = ['%.2f' % elem for elem in yhat]  # we just do some rounding\n",
    "df_movie_test = df_movie_test.sort_values(['Rating Calculated'], ascending=False)\n",
    "df_movie_test[['Title', 'Rating', 'Rating Calculated']].head(20)\n"
   ]
  },
  {
   "cell_type": "markdown",
   "metadata": {},
   "source": [
    "We can see very nicely that the non-ranked superhero-movie is ranked high, whereas the romantic comedy received a low rating. \n",
    "<br>\n",
    "Now, we want to examine the weight of the features to see how the ranking is calculated:"
   ]
  },
  {
   "cell_type": "code",
   "execution_count": 19,
   "metadata": {},
   "outputs": [
    {
     "name": "stdout",
     "output_type": "stream",
     "text": [
      "               F-Name    Weight\n",
      "16           superman  0.500000\n",
      "15          superhero  0.333333\n",
      "2                beat  0.333333\n",
      "6        genre_action  0.333333\n",
      "4   christopher_reeve  0.250000\n",
      "...\n",
      "                   F-Name    Weight\n",
      "12                  space -0.583333\n",
      "10                    new -0.583333\n",
      "8   genre_science_fiction -0.583333\n",
      "5                 explore -0.583333\n",
      "21                 worlds -0.583333\n"
     ]
    }
   ],
   "source": [
    "cv.get_feature_names()\n",
    "model_lin.coef_\n",
    "\n",
    "d = {'F-Name':cv.get_feature_names(), 'Weight': model_lin.coef_}\n",
    "\n",
    "df_w = pd.DataFrame(d)\n",
    "df_w=df_w.sort_values(['Weight'], ascending=False)\n",
    "print (df_w.head(5))\n",
    "print(\"...\")\n",
    "print (df_w.tail(5))\n"
   ]
  },
  {
   "cell_type": "markdown",
   "metadata": {},
   "source": [
    "## Conclusion\n",
    "\n",
    "We have built a very simple classifier which is able to predict the ranking of new movies based on the user preferences. Of course, the example has some drwabacks.\n",
    "\n",
    "Artificial data stereotypes\n",
    "\n",
    "However, if you feel bored and need some hints which movie to watch in your collection, this classifier can provide some hints.\n",
    "\n",
    "The last two steps of a data analysts problem, which are \"deployment\" and \"feedback\" are out of scope of this post. Maybe a reader has some time and can build a recommendation-add-on for Kodi based on this post."
   ]
  },
  {
   "cell_type": "markdown",
   "metadata": {},
   "source": [
    "## References and acknowledgements\n",
    "\n",
    "This post was inspired by some other posts, mainly:\n",
    "\n",
    "https://towardsdatascience.com/text-classification-in-python-dd95d264c802\n",
    "\n",
    "https://kavita-ganesan.com/news-classifier-with-logistic-regression-in-python/"
   ]
  },
  {
   "cell_type": "markdown",
   "metadata": {},
   "source": [
    "\n"
   ]
  }
 ],
 "metadata": {
  "kernelspec": {
   "display_name": "Python 3",
   "language": "python",
   "name": "python3"
  },
  "language_info": {
   "codemirror_mode": {
    "name": "ipython",
    "version": 3
   },
   "file_extension": ".py",
   "mimetype": "text/x-python",
   "name": "python",
   "nbconvert_exporter": "python",
   "pygments_lexer": "ipython3",
   "version": "3.6.1"
  }
 },
 "nbformat": 4,
 "nbformat_minor": 2
}
